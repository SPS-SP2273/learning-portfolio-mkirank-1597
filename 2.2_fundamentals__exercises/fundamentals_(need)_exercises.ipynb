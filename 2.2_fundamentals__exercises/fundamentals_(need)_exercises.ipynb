{
 "cells": [
  {
   "attachments": {},
   "cell_type": "markdown",
   "id": "123456",
   "metadata": {},
   "source": [
    "<div style=\"text-align:left;font-size:2em\"><span style=\"font-weight:bolder;font-size:1.25em\">SP2273 | Learning Portfolio</span><br><br><span style=\"font-weight:bold;color:darkred\">Fundamentals (Need) Exercises</span></div>"
   ]
  },
  {
   "cell_type": "markdown",
   "id": "f3701982",
   "metadata": {},
   "source": [
    "**Exercise 1**"
   ]
  },
  {
   "cell_type": "markdown",
   "id": "ed982502",
   "metadata": {},
   "source": [
    "- functions\n",
    "- variables\n",
    "- arguments\n",
    "- lists\n",
    "- dictionaries\n",
    "- strings, integers, floats, booleans\n",
    "*- case sensitive*\n",
    "*- indentation sensitive*"
   ]
  },
  {
   "cell_type": "markdown",
   "id": "e59cc021",
   "metadata": {},
   "source": [
    "**Exercise 2**"
   ]
  },
  {
   "cell_type": "code",
   "execution_count": 1,
   "id": "0ce64cc1",
   "metadata": {},
   "outputs": [
    {
     "name": "stdout",
     "output_type": "stream",
     "text": [
      "3 4 5\n",
      "3 4 5.0\n"
     ]
    }
   ],
   "source": [
    "import math\n",
    "\n",
    "x = 3\n",
    "y = 4\n",
    "z = math.sqrt(x**2 + y**2)\n",
    "print(x, y, int(z))\n",
    "\n",
    "#alternatively\n",
    "z2 = (x**2 + y**2)**0.5\n",
    "print(x, y, z2)"
   ]
  },
  {
   "cell_type": "markdown",
   "id": "ab1123ee",
   "metadata": {},
   "source": [
    "**Exercise 3**\n",
    "\n",
    "|  #  |  term         |  description  |\n",
    "| --- | ---           | ---           |\n",
    "| 1   | function      | defined series of steps |\n",
    "| 2   | argument      | value that can be given to a function to carry out its steps with |\n",
    "| 3   | comments      | indicated using hash symbol, ignored by python |\n",
    "| 4   | indentations  | indicates groups of lines of code |\n",
    "| 5   | packages      | library of pre-defined functions that can be introduced to python |\n",
    "| 6   | .             | a.b -> b belongs to a |\n",
    "| 7   | :             | used before indentation in following line |\n",
    "| 8   | []            | makes lists |\n",
    "| 9   | [[],[]]       | makes lists within lists |\n",
    "| 10  | {}            | makes dictionaries |\n"
   ]
  },
  {
   "cell_type": "markdown",
   "id": "dc66cda3",
   "metadata": {},
   "source": [
    "**Exercise 4**\n",
    "\n",
    "| option | what it does | output |\n",
    "| ---  | ---            | --- |\n",
    "| 5/2  | divides | 2.5 |\n",
    "| 5//2 | divides, but no decimals in answer| 2 |\n",
    "| 5%2  | remainder | 1 |"
   ]
  }
 ],
 "metadata": {
  "kernelspec": {
   "display_name": "Python 3",
   "language": "python",
   "name": "python3"
  },
  "language_info": {
   "codemirror_mode": {
    "name": "ipython",
    "version": 3
   },
   "file_extension": ".py",
   "mimetype": "text/x-python",
   "name": "python",
   "nbconvert_exporter": "python",
   "pygments_lexer": "ipython3",
   "version": "3.13.3"
  },
  "toc": {
   "base_numbering": 1,
   "nav_menu": {},
   "number_sections": true,
   "sideBar": true,
   "skip_h1_title": false,
   "title_cell": "Table of Contents",
   "title_sidebar": "Contents",
   "toc_cell": false,
   "toc_position": {},
   "toc_section_display": true,
   "toc_window_display": false
  },
  "vscode": {
   "interpreter": {
    "hash": "31f2aee4e71d21fbe5cf8b01ff0e069b9275f58929596ceb00d14d90e3e16cd6"
   }
  }
 },
 "nbformat": 4,
 "nbformat_minor": 5
}
