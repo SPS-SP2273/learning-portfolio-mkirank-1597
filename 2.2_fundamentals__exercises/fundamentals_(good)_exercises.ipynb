{
 "cells": [
  {
   "attachments": {},
   "cell_type": "markdown",
   "id": "123456",
   "metadata": {},
   "source": [
    "<div style=\"text-align:left;font-size:2em\"><span style=\"font-weight:bolder;font-size:1.25em\">SP2273 | Learning Portfolio</span><br><br><span style=\"font-weight:bold;color:darkred\">Fundamentals (Good) Exercises</span></div>"
   ]
  },
  {
   "cell_type": "markdown",
   "id": "dabe7783",
   "metadata": {},
   "source": [
    "**Exercise 1**"
   ]
  },
  {
   "cell_type": "code",
   "execution_count": 4,
   "id": "9dd9a675",
   "metadata": {},
   "outputs": [
    {
     "name": "stdout",
     "output_type": "stream",
     "text": [
      "How you doin KIRAN!\n",
      "How you doin KIRAN!\n"
     ]
    }
   ],
   "source": [
    "#task 1\n",
    "name = input('what is your name?')\n",
    "print(\"How you doin \" + str.upper(name) + \"!\")\n",
    "\n",
    "#task 1 with f-strings\n",
    "print(f\"How you doin {name.upper()}!\")"
   ]
  },
  {
   "cell_type": "code",
   "execution_count": 5,
   "id": "be1a26cb",
   "metadata": {},
   "outputs": [
    {
     "name": "stdout",
     "output_type": "stream",
     "text": [
      "My name is kiran and I am 19 years old.\n",
      "My name is kiran and I am 19 years old.\n"
     ]
    }
   ],
   "source": [
    "#task 2\n",
    "name = input('what is your name?')\n",
    "age = input('what is your age?')\n",
    "print(\"My name is \" + str(name) + \" and I am \" + age + \" years old.\")\n",
    "\n",
    "#task 2 with f-strings\n",
    "print(f\"My name is {name} and I am {age} years old.\")"
   ]
  },
  {
   "cell_type": "code",
   "execution_count": 118,
   "id": "ebe7a791",
   "metadata": {},
   "outputs": [
    {
     "name": "stdout",
     "output_type": "stream",
     "text": [
      "the value of pi  to 2 dp is: 3.14\n",
      "the value of pi  to 3 dp is: 3.142\n",
      "the value of pi  to 4 dp is: 3.1416\n"
     ]
    }
   ],
   "source": [
    "#task 3\n",
    "pi = 3.141592653589793\n",
    "\n",
    "print(f\"the value of pi  to 2 dp is: {pi:.2f}\")\n",
    "print(f\"the value of pi  to 3 dp is: {pi:.3f}\")\n",
    "print(f\"the value of pi  to 4 dp is: {pi:.4f}\")"
   ]
  },
  {
   "cell_type": "code",
   "execution_count": 122,
   "id": "5bf6eaeb",
   "metadata": {},
   "outputs": [
    {
     "name": "stdout",
     "output_type": "stream",
     "text": [
      "Apple     $ 0.99\n",
      "Banana    $ 0.59\n",
      "Orange    $ 1.29\n"
     ]
    }
   ],
   "source": [
    "#task 4\n",
    "\n",
    "print(\"Apple     $ 0.99\")\n",
    "print(\"Banana    $ 0.59\")\n",
    "print(\"Orange    $ 1.29\")"
   ]
  },
  {
   "cell_type": "markdown",
   "id": "e74e17d6",
   "metadata": {},
   "source": [
    "**Exercise 2**"
   ]
  },
  {
   "cell_type": "code",
   "execution_count": null,
   "id": "d1972eca",
   "metadata": {},
   "outputs": [
    {
     "name": "stdout",
     "output_type": "stream",
     "text": [
      "The student's letter grade for a score of 90 is: A\n"
     ]
    }
   ],
   "source": [
    "#exercise 2 trial 1\n",
    "\n",
    "grade = input(\"Enter the student's score:\")\n",
    "\n",
    "if grade.isdigit():\n",
    "    if 70<int(grade)<100:\n",
    "        print(f\"The student's letter grade for a score of {grade} is: A\")\n",
    "    elif 50<int(grade)<69:\n",
    "        print(f\"The student's letter grade for a score of {grade} is: B\")\n",
    "    elif 35<int(grade)<49:\n",
    "        print(f\"The student's letter grade for a score of {grade} is: C\")\n",
    "    elif 0<int(grade)<34:\n",
    "        print(f\"The student's letter grade for a score of {grade} is: Fail\")\n",
    "else:\n",
    "    print(f\"{grade} is not a numerical score. Please try again.\")\n",
    "\n",
    "    "
   ]
  },
  {
   "cell_type": "code",
   "execution_count": null,
   "id": "cf70cb4a",
   "metadata": {},
   "outputs": [
    {
     "name": "stdout",
     "output_type": "stream",
     "text": [
      "The student's letter grade for a score of 40 is: C\n"
     ]
    }
   ],
   "source": [
    "#exercise 2 trial 2\n",
    "\n",
    "grade = input(\"Enter the student's score:\")\n",
    "\n",
    "if grade.isdigit():\n",
    "    if 70<int(grade)<100:\n",
    "        print(f\"The student's letter grade for a score of {grade} is: A\")\n",
    "    elif 50<int(grade)<69:\n",
    "        print(f\"The student's letter grade for a score of {grade} is: B\")\n",
    "    elif 35<int(grade)<49:\n",
    "        print(f\"The student's letter grade for a score of {grade} is: C\")\n",
    "    elif 0<int(grade)<34:\n",
    "        print(f\"The student's letter grade for a score of {grade} is: Fail\")\n",
    "else:\n",
    "    print(f\"{grade} is not a numerical score. Please try again.\")\n",
    "\n",
    "    "
   ]
  },
  {
   "cell_type": "code",
   "execution_count": null,
   "id": "98bbaf88",
   "metadata": {},
   "outputs": [
    {
     "name": "stdout",
     "output_type": "stream",
     "text": [
      "The student's letter grade for a score of 3 is: Fail\n"
     ]
    }
   ],
   "source": [
    "#exercise 2 trial 3\n",
    "\n",
    "grade = input(\"Enter the student's score:\")\n",
    "\n",
    "if grade.isdigit():\n",
    "    if 70<int(grade)<100:\n",
    "        print(f\"The student's letter grade for a score of {grade} is: A\")\n",
    "    elif 50<int(grade)<69:\n",
    "        print(f\"The student's letter grade for a score of {grade} is: B\")\n",
    "    elif 35<int(grade)<49:\n",
    "        print(f\"The student's letter grade for a score of {grade} is: C\")\n",
    "    elif 0<int(grade)<34:\n",
    "        print(f\"The student's letter grade for a score of {grade} is: Fail\")\n",
    "else:\n",
    "    print(f\"{grade} is not a numerical score. Please try again.\")\n",
    "\n",
    "    "
   ]
  },
  {
   "cell_type": "markdown",
   "id": "c425b6d7",
   "metadata": {},
   "source": [
    "**Exercise 3**"
   ]
  },
  {
   "cell_type": "code",
   "execution_count": null,
   "id": "e6fb688b",
   "metadata": {},
   "outputs": [
    {
     "name": "stdout",
     "output_type": "stream",
     "text": [
      "120\n",
      "Invalid input\n",
      "Invalid input\n",
      "720\n"
     ]
    }
   ],
   "source": [
    "def factorial(n):\n",
    "    if n < 0: #changed sign from n>0 to n<0, because only n smaller than 0 will be invalid\n",
    "        return \"Invalid input\"\n",
    "    elif n == 0: #changed n!=0 to n==0, output is 1 when input IS 0\n",
    "        return \"1\"\n",
    "    else:\n",
    "        result=1\n",
    "        for i in range(1, n+1):\n",
    "            result *= i #changed + to *, formula requires multiplication not addition\n",
    "        return result\n",
    "\n",
    "print(factorial(5))   # Testing, expected output: 120\n",
    "print(factorial(-1))  # Testing, expected output: Invalid input\n",
    "print(factorial(-3))\n",
    "print(factorial(6))"
   ]
  }
 ],
 "metadata": {
  "kernelspec": {
   "display_name": "Python 3",
   "language": "python",
   "name": "python3"
  },
  "language_info": {
   "codemirror_mode": {
    "name": "ipython",
    "version": 3
   },
   "file_extension": ".py",
   "mimetype": "text/x-python",
   "name": "python",
   "nbconvert_exporter": "python",
   "pygments_lexer": "ipython3",
   "version": "3.13.3"
  },
  "toc": {
   "base_numbering": 1,
   "nav_menu": {},
   "number_sections": true,
   "sideBar": true,
   "skip_h1_title": false,
   "title_cell": "Table of Contents",
   "title_sidebar": "Contents",
   "toc_cell": false,
   "toc_position": {},
   "toc_section_display": true,
   "toc_window_display": false
  },
  "vscode": {
   "interpreter": {
    "hash": "31f2aee4e71d21fbe5cf8b01ff0e069b9275f58929596ceb00d14d90e3e16cd6"
   }
  }
 },
 "nbformat": 4,
 "nbformat_minor": 5
}
