{
 "cells": [
  {
   "attachments": {},
   "cell_type": "markdown",
   "id": "123456",
   "metadata": {},
   "source": [
    "<div style=\"text-align:left;font-size:2em\"><span style=\"font-weight:bolder;font-size:1.25em\">SP2273 | Learning Portfolio</span><br><br><span style=\"font-weight:bold;color:darkred\">Files, Folders & OS (Need) Exercises</span></div>"
   ]
  },
  {
   "cell_type": "markdown",
   "id": "003548b0",
   "metadata": {},
   "source": [
    "**Task 1**"
   ]
  },
  {
   "cell_type": "code",
   "execution_count": null,
   "id": "cecea7a7",
   "metadata": {},
   "outputs": [
    {
     "name": "stdout",
     "output_type": "stream",
     "text": [
      "jul\n",
      "09-singapore.txt\n",
      "07-09-singapore.txt\n"
     ]
    }
   ],
   "source": [
    "months = {\n",
    "'jan': '01', 'feb': '02', 'mar': '03',\n",
    "'apr': '04', 'may': '05', 'jun': '06',\n",
    "'jul': '07', 'aug': '08', 'sep': '09',\n",
    "'oct': '10', 'nov': '11', 'dec': '12'\n",
    "}\n",
    "\n",
    "oldname = \"jul-09_singapore.txt\"\n",
    "filemonth, daycountry = oldname.split(\"-\", 1)\n",
    "daycountry = daycountry.replace(\"_\", \"-\")\n",
    "newname = f\"{months[filemonth]}-{daycountry}\"\n",
    "\n",
    "#print(filemonth)\n",
    "#print(daycountry)\n",
    "print(newname)\n"
   ]
  },
  {
   "cell_type": "markdown",
   "id": "448c3da4",
   "metadata": {},
   "source": [
    "**Task 2**"
   ]
  },
  {
   "cell_type": "code",
   "execution_count": 142,
   "id": "94b1bcb6",
   "metadata": {},
   "outputs": [
    {
     "name": "stdout",
     "output_type": "stream",
     "text": [
      "02-21-singapore.txt\n"
     ]
    }
   ],
   "source": [
    "months = {\n",
    "'jan': '01', 'feb': '02', 'mar': '03',\n",
    "'apr': '04', 'may': '05', 'jun': '06',\n",
    "'jul': '07', 'aug': '08', 'sep': '09',\n",
    "'oct': '10', 'nov': '11', 'dec': '12'\n",
    "}\n",
    "\n",
    "def rename_my_file(old_file_name):\n",
    "    filemonth, daycountry = old_file_name.split(\"-\", 1)\n",
    "    daycountry = daycountry.replace(\"_\", \"-\")\n",
    "    newname = f\"{months[filemonth]}-{daycountry}\"\n",
    "    print(newname)\n",
    "\n",
    "rename_my_file(\"feb-21_singapore.txt\")"
   ]
  },
  {
   "cell_type": "markdown",
   "id": "96924074",
   "metadata": {},
   "source": [
    "**Task 3**"
   ]
  },
  {
   "cell_type": "code",
   "execution_count": 92,
   "id": "4859c76e",
   "metadata": {},
   "outputs": [
    {
     "name": "stdout",
     "output_type": "stream",
     "text": [
      "oct-08_singapore.txt ---> 10-08-singapore.txt\n",
      "jul-10_cairo.txt ---> 07-10-cairo.txt\n",
      "may-15_dhaka.txt ---> 05-15-dhaka.txt\n",
      "may-13_cairo.txt ---> 05-13-cairo.txt\n",
      "oct-21_cairo.txt ---> 10-21-cairo.txt\n",
      "jan-10_singapore.txt ---> 01-10-singapore.txt\n",
      "jun-20_tokyo.txt ---> 06-20-tokyo.txt\n",
      "aug-06_jakarta.txt ---> 08-06-jakarta.txt\n",
      "dec-21_karachi.txt ---> 12-21-karachi.txt\n",
      "jan-01_tokyo.txt ---> 01-01-tokyo.txt\n"
     ]
    }
   ],
   "source": [
    "files = ['oct-08_singapore.txt', 'jul-10_cairo.txt', 'may-15_dhaka.txt',\n",
    " 'may-13_cairo.txt', 'oct-21_cairo.txt', 'jan-10_singapore.txt',\n",
    " 'jun-20_tokyo.txt', 'aug-06_jakarta.txt', 'dec-21_karachi.txt',\n",
    " 'jan-01_tokyo.txt']\n",
    "\n",
    "def rename_my_files(old_file_name):\n",
    "    filemonth, daycountry = old_file_name.split(\"-\", 1)\n",
    "    daycountry = daycountry.replace(\"_\", \"-\")\n",
    "    newname = f\"{months[filemonth]}-{daycountry}\"\n",
    "    print(f\"{old_file_name} ---> {newname}\")\n",
    "\n",
    "for file in files:\n",
    "    rename_my_files(file)\n"
   ]
  },
  {
   "cell_type": "markdown",
   "id": "ce095342",
   "metadata": {},
   "source": [
    "**Task 4**"
   ]
  },
  {
   "cell_type": "code",
   "execution_count": null,
   "id": "a9ae573a",
   "metadata": {},
   "outputs": [],
   "source": [
    "import os\n",
    "import glob\n",
    "\n",
    "months = {\n",
    "'jan': '01', 'feb': '02', 'mar': '03',\n",
    "'apr': '04', 'may': '05', 'jun': '06',\n",
    "'jul': '07', 'aug': '08', 'sep': '09',\n",
    "'oct': '10', 'nov': '11', 'dec': '12'\n",
    "}\n",
    "\n",
    "def rename_my_files1(old_file_name):\n",
    "    filename = os.path.basename(old_file_name)\n",
    "    filemonth, daycountry = filename.split(\"-\", 1)\n",
    "    daycountry = daycountry.replace(\"_\", \"-\")\n",
    "    newfilename = f\"{months[filemonth]}-{daycountry}\"\n",
    "    print(f\"{old_file_name} ---> {newfilename}\")\n",
    "    return newfilename\n",
    "\n",
    "allfiles = glob.glob('*/*.txt', recursive=True)\n",
    "\n",
    "for file in allfiles:\n",
    "    newfilename = rename_my_files1(file)\n",
    "    os.rename(file, newfilename)\n",
    "    "
   ]
  },
  {
   "cell_type": "markdown",
   "id": "0bc86200",
   "metadata": {},
   "source": [
    "**Task 5**"
   ]
  },
  {
   "cell_type": "code",
   "execution_count": 191,
   "id": "680c69ab",
   "metadata": {},
   "outputs": [],
   "source": [
    "cities = ['Cairo', 'Dhaka', 'Jakarta', 'Karachi', 'Manila',\n",
    " 'Melbourne', 'Osaka', 'Shanghai', 'Singapore', 'Tokyo']\n",
    "\n",
    "for city in cities:\n",
    "    os.mkdir(city)"
   ]
  },
  {
   "cell_type": "markdown",
   "id": "33c8f1a1",
   "metadata": {},
   "source": [
    "**Task 6**"
   ]
  },
  {
   "cell_type": "code",
   "execution_count": 192,
   "id": "e7a4bfb5",
   "metadata": {},
   "outputs": [],
   "source": [
    "import os\n",
    "import glob\n",
    "import shutil\n",
    "\n",
    "cairofiles = glob.glob('**/*cairo.*', recursive=True)\n",
    "\n",
    "for file in cairofiles:\n",
    "    shutil.copy(file, r\"C:\\\\Users\\\\manki\\Desktop\\\\coding\\\\learning-portfolio-mkirank-1597\\\\6.2_files,_folders_&_os__exercises\\\\Cairo\")"
   ]
  },
  {
   "cell_type": "markdown",
   "id": "3bea723a",
   "metadata": {},
   "source": [
    "**Task 7**"
   ]
  },
  {
   "cell_type": "code",
   "execution_count": 193,
   "id": "6e5a3ef4",
   "metadata": {},
   "outputs": [
    {
     "name": "stderr",
     "output_type": "stream",
     "text": [
      "<>:10: SyntaxWarning: invalid escape sequence '\\D'\n",
      "<>:10: SyntaxWarning: invalid escape sequence '\\D'\n",
      "C:\\Users\\manki\\AppData\\Local\\Temp\\ipykernel_25364\\4293000328.py:10: SyntaxWarning: invalid escape sequence '\\D'\n",
      "  shutil.copy(file, f\"C:\\\\Users\\\\manki\\Desktop\\\\coding\\\\learning-portfolio-mkirank-1597\\\\6.2_files,_folders_&_os__exercises\\\\{city}\")\n"
     ]
    }
   ],
   "source": [
    "import os\n",
    "import glob\n",
    "import shutil\n",
    "\n",
    "cities = ['dhaka', 'jakarta', 'karachi', 'manila', 'melbourne', 'osaka', 'shanghai', 'singapore', 'tokyo']\n",
    "\n",
    "for city in cities:\n",
    "    files = glob.glob(f\"**/*{city}.*\", recursive=True)\n",
    "    for file in files:\n",
    "        shutil.copy(file, f\"C:\\\\Users\\\\manki\\Desktop\\\\coding\\\\learning-portfolio-mkirank-1597\\\\6.2_files,_folders_&_os__exercises\\\\{city}\")\n"
   ]
  }
 ],
 "metadata": {
  "kernelspec": {
   "display_name": "Python 3",
   "language": "python",
   "name": "python3"
  },
  "language_info": {
   "codemirror_mode": {
    "name": "ipython",
    "version": 3
   },
   "file_extension": ".py",
   "mimetype": "text/x-python",
   "name": "python",
   "nbconvert_exporter": "python",
   "pygments_lexer": "ipython3",
   "version": "3.13.3"
  },
  "toc": {
   "base_numbering": 1,
   "nav_menu": {},
   "number_sections": true,
   "sideBar": true,
   "skip_h1_title": false,
   "title_cell": "Table of Contents",
   "title_sidebar": "Contents",
   "toc_cell": false,
   "toc_position": {},
   "toc_section_display": true,
   "toc_window_display": false
  },
  "vscode": {
   "interpreter": {
    "hash": "31f2aee4e71d21fbe5cf8b01ff0e069b9275f58929596ceb00d14d90e3e16cd6"
   }
  }
 },
 "nbformat": 4,
 "nbformat_minor": 5
}
