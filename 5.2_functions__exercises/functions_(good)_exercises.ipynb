{
 "cells": [
  {
   "attachments": {},
   "cell_type": "markdown",
   "id": "123456",
   "metadata": {},
   "source": [
    "<div style=\"text-align:left;font-size:2em\"><span style=\"font-weight:bolder;font-size:1.25em\">SP2273 | Learning Portfolio</span><br><br><span style=\"font-weight:bold;color:darkred\">Functions (Good) Exercises</span></div>"
   ]
  },
  {
   "cell_type": "markdown",
   "id": "131e4702",
   "metadata": {},
   "source": [
    "**Exercise 1**"
   ]
  },
  {
   "cell_type": "code",
   "execution_count": 7,
   "id": "77babcd3",
   "metadata": {},
   "outputs": [
    {
     "name": "stdout",
     "output_type": "stream",
     "text": [
      "temperature in kelvin is 293.15 K\n",
      "temperature in fahrenheit is 68.0 F\n"
     ]
    }
   ],
   "source": [
    "def convert_celcius(temperature_celsius, target_scale):\n",
    "    if target_scale == \"kelvin\":\n",
    "        temp = temperature_celsius+273.15\n",
    "        print(f\"temperature in kelvin is {temp} K\")\n",
    "    if target_scale != \"kelvin\":\n",
    "        temp = (temperature_celsius*1.8)+32\n",
    "        print(f\"temperature in fahrenheit is {temp} F\")\n",
    "    \n",
    "\n",
    "convert_celcius(20, \"kelvin\")\n",
    "convert_celcius(20, \"\")"
   ]
  },
  {
   "cell_type": "markdown",
   "id": "5f98dcf8",
   "metadata": {},
   "source": [
    "**Exercise 2**"
   ]
  },
  {
   "cell_type": "code",
   "execution_count": 2,
   "id": "f7c56246",
   "metadata": {},
   "outputs": [
    {
     "name": "stdout",
     "output_type": "stream",
     "text": [
      "temperature in kelvin is 266.48333333333335 K\n",
      "temperature in celsius is -6.666666666666666 C\n"
     ]
    }
   ],
   "source": [
    "def convert_fahrenheit(temperature_fahrenheit, target_scale):\n",
    "    if target_scale == \"kelvin\":\n",
    "        temp = (temperature_fahrenheit+459.67)*5/9\n",
    "        print(f\"temperature in kelvin is {temp} K\")\n",
    "    if target_scale != \"kelvin\":\n",
    "        temp = (temperature_fahrenheit-32)/1.8\n",
    "        print(f\"temperature in celsius is {temp} C\")\n",
    "\n",
    "convert_fahrenheit(20, \"kelvin\")\n",
    "convert_fahrenheit(20, \"\")"
   ]
  },
  {
   "cell_type": "code",
   "execution_count": 12,
   "id": "70bf550c",
   "metadata": {},
   "outputs": [
    {
     "name": "stdout",
     "output_type": "stream",
     "text": [
      "temperature in kelvin is 266.4833333333333 K\n",
      "temperature in celsius is -6.666666666666666 C\n"
     ]
    }
   ],
   "source": [
    "#exercise 2 alternative\n",
    "\n",
    "def convert_celcius(temperature_celsius, target_scale):\n",
    "    if target_scale == \"kelvin\":\n",
    "        temp = temperature_celsius+273.15\n",
    "        print(f\"temperature in kelvin is {temp} K\")\n",
    "    if target_scale != \"kelvin\":\n",
    "        temp = (temperature_celsius*1.8)+32\n",
    "        print(f\"temperature in fahrenheit is {temp} F\")\n",
    "\n",
    "def convert_fahrenheit(temperature_fahrenheit, target_scale):\n",
    "    if target_scale != \"kelvin\":\n",
    "        temp = (temperature_fahrenheit-32)/1.8\n",
    "        print(f\"temperature in celsius is {temp} C\")\n",
    "    #if target_scale == \"kelvin\":\n",
    "        #temp = (temperature_fahrenheit+459.67)*5/9\n",
    "        #print(f\"temperature in kelvin is {temp} K\")\n",
    "    if target_scale == \"kelvin\":\n",
    "        temp = (temperature_fahrenheit-32)/1.8 #convert to celsius\n",
    "        convert_celcius(temp, \"kelvin\") #use celsius converted to kelvin instead\n",
    "\n",
    "\n",
    "convert_fahrenheit(20, \"kelvin\")\n",
    "convert_fahrenheit(20, \"\")"
   ]
  },
  {
   "cell_type": "code",
   "execution_count": null,
   "id": "1f022757",
   "metadata": {
    "vscode": {
     "languageId": "markdown"
    }
   },
   "outputs": [],
   "source": [
    "**Exercise 3**"
   ]
  },
  {
   "cell_type": "code",
   "execution_count": 13,
   "id": "2006e2dd",
   "metadata": {},
   "outputs": [
    {
     "name": "stdout",
     "output_type": "stream",
     "text": [
      "temperature in fahrenheit is 68.0 F\n",
      "temperature in celsius is -6.666666666666666 C\n",
      "temperature in fahrenheit is -423.66999999999996 F\n",
      "temperature in kelvin is 293.15 K\n",
      "temperature in kelvin is 266.48333333333335 K\n",
      "temperature in celsius is -253.14999999999998 C\n"
     ]
    }
   ],
   "source": [
    "def convert_celcius(temperature_celsius, target_scale):\n",
    "    if target_scale == \"kelvin\":\n",
    "        temp = temperature_celsius+273.15\n",
    "        print(f\"temperature in kelvin is {temp} K\")\n",
    "    if target_scale != \"kelvin\":\n",
    "        temp = (temperature_celsius*1.8)+32\n",
    "        print(f\"temperature in fahrenheit is {temp} F\")\n",
    "\n",
    "def convert_fahrenheit(temperature_fahrenheit, target_scale):\n",
    "    if target_scale == \"kelvin\":\n",
    "        temp = (temperature_fahrenheit+459.67)*5/9\n",
    "        print(f\"temperature in kelvin is {temp} K\")\n",
    "    if target_scale != \"kelvin\":\n",
    "        temp = (temperature_fahrenheit-32)/1.8\n",
    "        print(f\"temperature in celsius is {temp} C\")\n",
    "\n",
    "def convert_temperature(temperature, source_scale, target_scale):\n",
    "    if source_scale == \"celsius\":\n",
    "        convert_celcius(temperature, target_scale)\n",
    "    if source_scale == \"fahrenheit\":\n",
    "        convert_fahrenheit(temperature, target_scale)\n",
    "    if source_scale == \"kelvin\":\n",
    "        if target_scale == \"celsius\":\n",
    "            temp = temperature-273.15\n",
    "            print(f\"temperature in celsius is {temp} C\")\n",
    "        if target_scale != \"celsius\":\n",
    "            temp = ((temperature-273.15)*1.8)+32\n",
    "            print(f\"temperature in fahrenheit is {temp} F\")\n",
    "\n",
    "\n",
    "convert_temperature(20,\"celsius\",\"f\")\n",
    "convert_temperature(20,\"fahrenheit\",\"c\")\n",
    "convert_temperature(20, \"kelvin\", \"f\")\n",
    "convert_temperature(20,\"celsius\",\"kelvin\")\n",
    "convert_temperature(20,\"fahrenheit\",\"kelvin\")\n",
    "convert_temperature(20, \"kelvin\", \"celsius\")\n",
    "\n"
   ]
  }
 ],
 "metadata": {
  "kernelspec": {
   "display_name": "Python 3",
   "language": "python",
   "name": "python3"
  },
  "language_info": {
   "codemirror_mode": {
    "name": "ipython",
    "version": 3
   },
   "file_extension": ".py",
   "mimetype": "text/x-python",
   "name": "python",
   "nbconvert_exporter": "python",
   "pygments_lexer": "ipython3",
   "version": "3.13.3"
  },
  "toc": {
   "base_numbering": 1,
   "nav_menu": {},
   "number_sections": true,
   "sideBar": true,
   "skip_h1_title": false,
   "title_cell": "Table of Contents",
   "title_sidebar": "Contents",
   "toc_cell": false,
   "toc_position": {},
   "toc_section_display": true,
   "toc_window_display": false
  },
  "vscode": {
   "interpreter": {
    "hash": "31f2aee4e71d21fbe5cf8b01ff0e069b9275f58929596ceb00d14d90e3e16cd6"
   }
  }
 },
 "nbformat": 4,
 "nbformat_minor": 5
}
