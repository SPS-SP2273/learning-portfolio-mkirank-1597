{
 "cells": [
  {
   "attachments": {},
   "cell_type": "markdown",
   "id": "123456",
   "metadata": {},
   "source": [
    "<div style=\"text-align:left;font-size:2em\"><span style=\"font-weight:bolder;font-size:1.25em\">SP2273 | Learning Portfolio</span><br><br><span style=\"font-weight:bold;color:darkred\">Using Jupyter (Need), Exercises</span></div>"
   ]
  },
  {
   "cell_type": "markdown",
   "id": "341c3efb",
   "metadata": {},
   "source": [
    "**Exercise 1**"
   ]
  },
  {
   "cell_type": "markdown",
   "id": "c9f0ef07",
   "metadata": {},
   "source": [
    "# 1 Quadratic Equations\n",
    "\n",
    "## Introduction\n",
    "\n",
    "![](https://upload.wikimedia.org/wikipedia/commons/thumb/f/f8/Polynomialdeg2.svg/600px-Polynomialdeg2.svg.png)\n",
    "\n",
    "(Image from the [Wikipedia page on Quadratic equations](https://en.wikipedia.org/wiki/Quadratic_equation))\n",
    "\n",
    "The general form of a quadratic equation is:\n",
    "\n",
    "$$ax^2+bx+c=0$$\n",
    "\n",
    "## Solutions\n",
    "\n",
    "Provided $a\\neq0$, we can use an elementary algebraic method called [completing the square](https://en.wikipedia.org/wiki/Completing_the_square) to show that a quadratic equation has the following solution:\n",
    "\n",
    "$$x=\\frac{-b\\pm \\sqrt{b^2-4ac}}{2a}$$\n",
    "\n",
    "## Discriminant\n",
    "\n",
    "The quantity $\\Delta=b^2+4ac$ is called the **discriminant** of the equation and decides the nature of its solutions. The table below shows the various possibilities.\n",
    "\n",
    "| Discriminant         | Roots   |\n",
    "| ---         | ---   |\n",
    "| $\\Delta=b^2+4ac = 0$ | A single solution of $-b/(2a)$ |\n",
    "| $\\Delta=b^2+4ac > 0$ | \tTwo distinct solutions |\n",
    "| $\\Delta=b^2+4ac < 0$ | No real solutions; both are complex. |\n",
    "\n",
    "\n"
   ]
  },
  {
   "cell_type": "markdown",
   "id": "87cdf4e3",
   "metadata": {},
   "source": [
    "**Exercise 2**\n",
    "\n",
    "1. repository = folder, Git = google drive\n",
    "2. Git keeps track of CHANGES in the files in our repository.\n",
    "3. description, records changes in file\n",
    "4. commits made on local device are shared with GitHub server\n",
    "5. files saved on GitHub cloud are downloaded to local device\n",
    "6. GitHub is online; GitHub Desktop is on local device, commits are recorded here before being pushed to GitHub online."
   ]
  },
  {
   "cell_type": "markdown",
   "id": "3aa3eda4",
   "metadata": {},
   "source": [
    "**Exercise 3**\n",
    "$$ \\mu = \\frac{1}{n}\\sum \\limits _{i=1} ^{n} x_{i} $$\n",
    "$$ \\sigma = \\sqrt{\\frac{1}{n}\\sum\\limits _{i=1} ^{n} (x_{i}-\\mu)^{2}} $$\n",
    "$$ r = \\frac{\\sum \\limits _{i=1} ^{n} (x_{i}-\\mu_{X})(y_{i}-\\mu_{Y})} {\\sqrt {\\sum\\limits _{i=1} ^{n}(x_{i}-\\mu_{X})^{2}\\sum\\limits _{i=1} ^{n}(y_{i}-\\mu_{Y})^{2}}} $$"
   ]
  }
 ],
 "metadata": {
  "kernelspec": {
   "display_name": "Python 3",
   "language": "python",
   "name": "python3"
  },
  "language_info": {
   "codemirror_mode": {
    "name": "ipython",
    "version": 3
   },
   "file_extension": ".py",
   "mimetype": "text/x-python",
   "name": "python",
   "nbconvert_exporter": "python",
   "pygments_lexer": "ipython3",
   "version": "3.13.3"
  },
  "toc": {
   "base_numbering": 1,
   "nav_menu": {},
   "number_sections": true,
   "sideBar": true,
   "skip_h1_title": false,
   "title_cell": "Table of Contents",
   "title_sidebar": "Contents",
   "toc_cell": false,
   "toc_position": {},
   "toc_section_display": true,
   "toc_window_display": false
  }
 },
 "nbformat": 4,
 "nbformat_minor": 5
}
