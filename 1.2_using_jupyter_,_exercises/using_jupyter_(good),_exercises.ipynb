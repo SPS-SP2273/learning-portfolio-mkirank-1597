{
 "cells": [
  {
   "attachments": {},
   "cell_type": "markdown",
   "id": "123456",
   "metadata": {},
   "source": [
    "<div style=\"text-align:left;font-size:2em\"><span style=\"font-weight:bolder;font-size:1.25em\">SP2273 | Learning Portfolio</span><br><br><span style=\"font-weight:bold;color:darkred\">Using Jupyter (Good), Exercises</span></div>"
   ]
  },
  {
   "cell_type": "markdown",
   "id": "041bb232",
   "metadata": {},
   "source": [
    "**Exercise 1**"
   ]
  },
  {
   "cell_type": "code",
   "execution_count": 1,
   "id": "2f82bc85",
   "metadata": {},
   "outputs": [],
   "source": [
    "#while True:\n",
    "    #print('*', end='')"
   ]
  },
  {
   "cell_type": "markdown",
   "id": "e863f0fe",
   "metadata": {},
   "source": [
    "**Exercise 2**"
   ]
  },
  {
   "cell_type": "code",
   "execution_count": 2,
   "id": "9533277d",
   "metadata": {},
   "outputs": [],
   "source": [
    "#print = 'PRINT'"
   ]
  },
  {
   "cell_type": "code",
   "execution_count": 3,
   "id": "d1b53f61",
   "metadata": {},
   "outputs": [
    {
     "name": "stdout",
     "output_type": "stream",
     "text": [
      "Hello World\n"
     ]
    }
   ],
   "source": [
    "print('Hello World')"
   ]
  },
  {
   "cell_type": "markdown",
   "id": "926d2673",
   "metadata": {},
   "source": [
    "**Exercise 3**"
   ]
  },
  {
   "cell_type": "code",
   "execution_count": null,
   "id": "6408355f",
   "metadata": {},
   "outputs": [
    {
     "name": "stdout",
     "output_type": "stream",
     "text": [
      "[0, 1, 4, 9, 16, 25, 36, 49, 64, 81]\n",
      "0.08333800011314452\n"
     ]
    }
   ],
   "source": [
    "import timeit\n",
    "\n",
    "squares =[i**2 for i in range(10)]\n",
    "\n",
    "time_taken = timeit.timeit(str(squares))\n",
    "\n",
    "print(squares)\n",
    "print(time_taken)\n",
    "\n",
    "#time taken for calcuations in range from 0 to 10 to occur and be printed"
   ]
  },
  {
   "cell_type": "code",
   "execution_count": null,
   "id": "951cc7ed",
   "metadata": {},
   "outputs": [
    {
     "name": "stdout",
     "output_type": "stream",
     "text": [
      "[0, 1, 4, 9, 16, 25, 36, 49, 64, 81]\n",
      "0.0851321000372991\n"
     ]
    }
   ],
   "source": [
    "import timeit\n",
    "\n",
    "squares = list()\n",
    "for i in range(10):\n",
    "    squares.append(i**2)\n",
    "\n",
    "time_taken = timeit.timeit(str(squares))\n",
    "\n",
    "print (squares)\n",
    "print(time_taken)\n",
    "\n",
    "#time taken for values in list to be appended from (1 to 10) to (their squares) and be printed"
   ]
  }
 ],
 "metadata": {
  "kernelspec": {
   "display_name": "Python 3",
   "language": "python",
   "name": "python3"
  },
  "language_info": {
   "codemirror_mode": {
    "name": "ipython",
    "version": 3
   },
   "file_extension": ".py",
   "mimetype": "text/x-python",
   "name": "python",
   "nbconvert_exporter": "python",
   "pygments_lexer": "ipython3",
   "version": "3.13.3"
  },
  "toc": {
   "base_numbering": 1,
   "nav_menu": {},
   "number_sections": true,
   "sideBar": true,
   "skip_h1_title": false,
   "title_cell": "Table of Contents",
   "title_sidebar": "Contents",
   "toc_cell": false,
   "toc_position": {},
   "toc_section_display": true,
   "toc_window_display": false
  },
  "vscode": {
   "interpreter": {
    "hash": "31f2aee4e71d21fbe5cf8b01ff0e069b9275f58929596ceb00d14d90e3e16cd6"
   }
  }
 },
 "nbformat": 4,
 "nbformat_minor": 5
}
