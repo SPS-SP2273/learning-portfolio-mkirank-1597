{
 "cells": [
  {
   "attachments": {},
   "cell_type": "markdown",
   "id": "123456",
   "metadata": {},
   "source": [
    "<div style=\"text-align:left;font-size:2em\"><span style=\"font-weight:bolder;font-size:1.25em\">SP2273 | Learning Portfolio</span><br><br><span style=\"font-weight:bold;color:darkred\">Loops (Need) Exercises</span></div>"
   ]
  },
  {
   "cell_type": "markdown",
   "id": "73a020a9",
   "metadata": {},
   "source": [
    "**Exercise 1**"
   ]
  },
  {
   "cell_type": "code",
   "execution_count": 74,
   "id": "f1db5e87",
   "metadata": {},
   "outputs": [
    {
     "name": "stdout",
     "output_type": "stream",
     "text": [
      "celsius: 0, fahrenheit: 32.0\n",
      "celsius: 5, fahrenheit: 41.0\n",
      "celsius: 10, fahrenheit: 50.0\n",
      "celsius: 15, fahrenheit: 59.0\n",
      "celsius: 20, fahrenheit: 68.0\n",
      "celsius: 25, fahrenheit: 77.0\n",
      "celsius: 30, fahrenheit: 86.0\n",
      "celsius: 35, fahrenheit: 95.0\n",
      "celsius: 40, fahrenheit: 104.0\n",
      "celsius: 45, fahrenheit: 113.0\n",
      "celsius: 50, fahrenheit: 122.0\n"
     ]
    }
   ],
   "source": [
    "temperatures_celsius = [\n",
    "    0, 5, 10, 15, 20, 25,\n",
    "    30, 35, 40, 45, 50\n",
    "]\n",
    "\n",
    "for i in temperatures_celsius:\n",
    "    fahrenheit= (i*1.8+32)\n",
    "    print(f\"celsius: {i}, fahrenheit: {fahrenheit}\")"
   ]
  },
  {
   "cell_type": "markdown",
   "id": "79961622",
   "metadata": {},
   "source": [
    "**Exercise 2**"
   ]
  },
  {
   "cell_type": "code",
   "execution_count": 69,
   "id": "a24533f8",
   "metadata": {},
   "outputs": [
    {
     "name": "stdout",
     "output_type": "stream",
     "text": [
      "1:\t1\t2\t3\t4\t5\t\n",
      "\n",
      "2:\t2\t4\t6\t8\t10\t\n",
      "\n",
      "3:\t3\t6\t9\t12\t15\t\n",
      "\n",
      "4:\t4\t8\t12\t16\t20\t\n",
      "\n",
      "5:\t5\t10\t15\t20\t25\t\n",
      "\n"
     ]
    }
   ],
   "source": [
    "for num in [1, 2, 3, 4, 5]:\n",
    "    print(f'{num}:', end='\\t')\n",
    "    for number in [1, 2, 3, 4, 5]:\n",
    "        print(f'{num*number}', end='\\t')\n",
    "    print('\\n')\n",
    "    "
   ]
  },
  {
   "cell_type": "markdown",
   "id": "b151c9ec",
   "metadata": {},
   "source": [
    "**Exercise 3**"
   ]
  },
  {
   "cell_type": "code",
   "execution_count": 72,
   "id": "25c89739",
   "metadata": {},
   "outputs": [
    {
     "name": "stdout",
     "output_type": "stream",
     "text": [
      "experiment 1: no. of heads = 8\n",
      "experiment 2: no. of heads = 3\n",
      "experiment 3: no. of heads = 5\n",
      "experiment 4: no. of heads = 7\n",
      "experiment 5: no. of heads = 4\n",
      "experiment 6: no. of heads = 6\n",
      "experiment 7: no. of heads = 3\n",
      "experiment 8: no. of heads = 7\n",
      "experiment 9: no. of heads = 7\n",
      "experiment 10: no. of heads = 6\n"
     ]
    }
   ],
   "source": [
    "import numpy as np\n",
    "\n",
    "for i in range(1,11):\n",
    "    heads = 0\n",
    "    flip = np.random.rand(10)\n",
    "    for f in flip:\n",
    "        if f > 0.5:\n",
    "            heads += 1\n",
    "    print(f\"experiment {i}: no. of heads = {heads}\")\n",
    "    i += 1\n",
    "    "
   ]
  }
 ],
 "metadata": {
  "kernelspec": {
   "display_name": "Python 3",
   "language": "python",
   "name": "python3"
  },
  "language_info": {
   "codemirror_mode": {
    "name": "ipython",
    "version": 3
   },
   "file_extension": ".py",
   "mimetype": "text/x-python",
   "name": "python",
   "nbconvert_exporter": "python",
   "pygments_lexer": "ipython3",
   "version": "3.13.3"
  },
  "toc": {
   "base_numbering": 1,
   "nav_menu": {},
   "number_sections": true,
   "sideBar": true,
   "skip_h1_title": false,
   "title_cell": "Table of Contents",
   "title_sidebar": "Contents",
   "toc_cell": false,
   "toc_position": {},
   "toc_section_display": true,
   "toc_window_display": false
  },
  "vscode": {
   "interpreter": {
    "hash": "31f2aee4e71d21fbe5cf8b01ff0e069b9275f58929596ceb00d14d90e3e16cd6"
   }
  }
 },
 "nbformat": 4,
 "nbformat_minor": 5
}
